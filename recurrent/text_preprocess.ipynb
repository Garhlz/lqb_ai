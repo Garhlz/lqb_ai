{
 "cells": [
  {
   "cell_type": "code",
   "execution_count": 10,
   "id": "52c7be00",
   "metadata": {},
   "outputs": [
    {
     "name": "stdout",
     "output_type": "stream",
     "text": [
      "# 文本总行数: 3221\n",
      "the time machine by h g wells\n",
      "twinkled and his usually pale face was flushed and animated the\n"
     ]
    }
   ],
   "source": [
    "import collections\n",
    "import re\n",
    "from d2l import torch as d2l\n",
    "\n",
    "#@save\n",
    "d2l.DATA_HUB['time_machine'] = (d2l.DATA_URL + 'timemachine.txt',\n",
    "                                '090b5e7e70c295757f55df93cb0a180b9691891a')\n",
    "\n",
    "def read_time_machine():  #@save\n",
    "    \"\"\"将时间机器数据集加载到文本行的列表中\"\"\"\n",
    "    with open(d2l.download('time_machine'), 'r') as f:\n",
    "        lines = f.readlines()\n",
    "    return [re.sub('[^A-Za-z]+', ' ', line).strip().lower() for line in lines]\n",
    "\n",
    "lines = read_time_machine()\n",
    "print(f'# 文本总行数: {len(lines)}')\n",
    "print(lines[0])\n",
    "print(lines[10])"
   ]
  },
  {
   "cell_type": "code",
   "execution_count": 11,
   "id": "f31951c3",
   "metadata": {},
   "outputs": [
    {
     "name": "stdout",
     "output_type": "stream",
     "text": [
      "['the', 'time', 'machine', 'by', 'h', 'g', 'wells']\n",
      "[]\n",
      "[]\n",
      "[]\n",
      "[]\n",
      "['i']\n",
      "[]\n",
      "[]\n",
      "['the', 'time', 'traveller', 'for', 'so', 'it', 'will', 'be', 'convenient', 'to', 'speak', 'of', 'him']\n",
      "['was', 'expounding', 'a', 'recondite', 'matter', 'to', 'us', 'his', 'grey', 'eyes', 'shone', 'and']\n",
      "['twinkled', 'and', 'his', 'usually', 'pale', 'face', 'was', 'flushed', 'and', 'animated', 'the']\n"
     ]
    }
   ],
   "source": [
    "def tokenize(lines, token='word'):  #@save\n",
    "    \"\"\"将文本行拆分为单词或字符词元\"\"\"\n",
    "    if token == 'word':\n",
    "        return [line.split() for line in lines]\n",
    "    elif token == 'char':\n",
    "        return [list(line) for line in lines]\n",
    "    else:\n",
    "        print('错误：未知词元类型：' + token)\n",
    "\n",
    "tokens = tokenize(lines)\n",
    "for i in range(11):\n",
    "    print(tokens[i])"
   ]
  },
  {
   "cell_type": "code",
   "execution_count": 12,
   "id": "c598414e",
   "metadata": {},
   "outputs": [],
   "source": [
    "def count_corpus(tokens):  #@save\n",
    "    \"\"\"统计词元的频率\"\"\"\n",
    "    # 这里的tokens是1D列表或2D列表\n",
    "    if len(tokens) == 0 or isinstance(tokens[0], list):\n",
    "        # 将词元列表展平成一个列表\n",
    "        tokens = [token for line in tokens for token in line]\n",
    "    return collections.Counter(tokens)\n",
    "\n",
    "class Vocab:\n",
    "    def __init__(self, tokens = None, min_freq = 0, reserved_tokens = None):\n",
    "        if tokens is None:\n",
    "            tokens = []\n",
    "        if reserved_tokens is None:\n",
    "            reserved_tokens = []\n",
    "        counter = count_corpus(tokens)\n",
    "        self._token_freqs = sorted(counter.items(), key = lambda x : x[1], reverse = True)\n",
    "\n",
    "        self.idx_to_token = ['<unk>'] + reserved_tokens\n",
    "        self.token_to_idx = {token : idx for idx, token in enumerate(self.idx_to_token)}\n",
    "        \n",
    "        for token, freq in self._token_freqs :\n",
    "            if freq < min_freq:\n",
    "                break\n",
    "            if token not in self.token_to_idx:\n",
    "                self.idx_to_token.append(token)\n",
    "                self.token_to_idx[token] = len(self.idx_to_token) - 1 # 维护token和下标的一个映射\n",
    "    \n",
    "    def __len__(self):\n",
    "        return len(self.idx_to_token)\n",
    "    \n",
    "    def __getitem__(self, tokens):\n",
    "        if not isinstance(tokens, (list, tuple)):\n",
    "            return self.token_to_idx.get(tokens, self.unk)\n",
    "        \n",
    "    def to_tokens(self, indices):\n",
    "        if not isinstance(indices, (list, tuple)):\n",
    "            return self.idx_to_token[indices]\n",
    "        return [self.idx_to_token[index] for index in indices]\n",
    "    \n",
    "    @property\n",
    "    def unk(self):\n",
    "        return 0\n",
    "    \n",
    "    @property\n",
    "    def token_freqs(self):\n",
    "        return self._token_freqs\n",
    "    "
   ]
  },
  {
   "cell_type": "code",
   "execution_count": 13,
   "id": "980bb7c3",
   "metadata": {},
   "outputs": [
    {
     "name": "stdout",
     "output_type": "stream",
     "text": [
      "[('<unk>', 0), ('the', 1), ('i', 2), ('and', 3), ('of', 4), ('a', 5), ('to', 6), ('was', 7), ('in', 8), ('that', 9)]\n"
     ]
    }
   ],
   "source": [
    "vocab = Vocab(tokens)\n",
    "print(list(vocab.token_to_idx.items())[:10])"
   ]
  },
  {
   "cell_type": "code",
   "execution_count": 14,
   "id": "15cb0f4e",
   "metadata": {},
   "outputs": [
    {
     "name": "stdout",
     "output_type": "stream",
     "text": [
      "文本:  ['the', 'time', 'machine', 'by', 'h', 'g', 'wells']\n",
      "索引:  [1, 19, 50, 40, 2183, 2184, 400]\n",
      "文本:  ['twinkled', 'and', 'his', 'usually', 'pale', 'face', 'was', 'flushed', 'and', 'animated', 'the']\n",
      "索引:  [2186, 3, 25, 1044, 362, 113, 7, 1421, 3, 1045, 1]\n"
     ]
    }
   ],
   "source": [
    "for i in [0,10]:\n",
    "    # token是一行句子分开的词汇\n",
    "    print('文本: ',tokens[i])\n",
    "    print('索引: ',[vocab[token] for token in tokens[i]])"
   ]
  },
  {
   "cell_type": "code",
   "execution_count": 15,
   "id": "f38c7873",
   "metadata": {},
   "outputs": [
    {
     "data": {
      "text/plain": [
       "(170580, 28)"
      ]
     },
     "execution_count": 15,
     "metadata": {},
     "output_type": "execute_result"
    }
   ],
   "source": [
    "def load_corpus_time_machine(max_tokens=-1):  #@save\n",
    "    \"\"\"返回时光机器数据集的词元索引列表和词表\"\"\"\n",
    "    lines = read_time_machine()\n",
    "    tokens = tokenize(lines, 'char')\n",
    "    vocab = Vocab(tokens)\n",
    "    # 因为时光机器数据集中的每个文本行不一定是一个句子或一个段落，\n",
    "    # 所以将所有文本行展平到一个列表中\n",
    "    corpus = [vocab[token] for line in tokens for token in line]\n",
    "    if max_tokens > 0:\n",
    "        corpus = corpus[:max_tokens]\n",
    "    return corpus, vocab\n",
    "\n",
    "corpus, vocab = load_corpus_time_machine()\n",
    "len(corpus), len(vocab)"
   ]
  },
  {
   "cell_type": "code",
   "execution_count": 17,
   "id": "cddc7efc",
   "metadata": {},
   "outputs": [
    {
     "name": "stdout",
     "output_type": "stream",
     "text": [
      "随机采样：\n",
      "X: tensor([[ 0,  1,  2,  3,  4],\n",
      "        [15, 16, 17, 18, 19]])\n",
      "Y: tensor([[ 1,  2,  3,  4,  5],\n",
      "        [16, 17, 18, 19, 20]])\n",
      "\n",
      "X: tensor([[10, 11, 12, 13, 14],\n",
      "        [ 5,  6,  7,  8,  9]])\n",
      "Y: tensor([[11, 12, 13, 14, 15],\n",
      "        [ 6,  7,  8,  9, 10]])\n",
      "\n",
      "X: tensor([[25, 26, 27, 28, 29],\n",
      "        [20, 21, 22, 23, 24]])\n",
      "Y: tensor([[26, 27, 28, 29, 30],\n",
      "        [21, 22, 23, 24, 25]])\n",
      "\n",
      "顺序分区：\n",
      "X: tensor([[ 2,  3,  4,  5,  6],\n",
      "        [ 7,  8,  9, 10, 11]])\n",
      "Y: tensor([[ 3,  4,  5,  6,  7],\n",
      "        [ 8,  9, 10, 11, 12]])\n",
      "\n",
      "X: tensor([])\n",
      "Y: tensor([])\n",
      "\n"
     ]
    }
   ],
   "source": [
    "# 随机抽样与顺序分区\n",
    "import random\n",
    "import torch\n",
    "def seq_data_iter_random(corpus, batch_size, num_steps):\n",
    "    \"\"\"使用随机抽样生成一个小批量子序列\"\"\"\n",
    "    # 随机偏移序列\n",
    "    corpus = corpus[random.randint(0, num_steps - 1):]\n",
    "    # 计算子序列数量（减1为标签预留空间）\n",
    "    num_subseqs = (len(corpus) - 1) // num_steps\n",
    "    # 生成子序列起始索引\n",
    "    initial_indices = list(range(0, num_subseqs * num_steps, num_steps))\n",
    "    # 随机打乱索引\n",
    "    random.shuffle(initial_indices)\n",
    "\n",
    "    def data(pos):\n",
    "        \"\"\"返回从pos开始的长度为num_steps的子序列\"\"\"\n",
    "        return corpus[pos: pos + num_steps]\n",
    "\n",
    "    # 计算批次数量\n",
    "    num_batches = num_subseqs // batch_size\n",
    "    for i in range(0, batch_size * num_batches, batch_size):\n",
    "        # 提取当前批次的起始索引\n",
    "        initial_indices_per_batch = initial_indices[i: i + batch_size]\n",
    "        # 生成输入X和标签Y\n",
    "        X = [data(j) for j in initial_indices_per_batch]\n",
    "        Y = [data(j + 1) for j in initial_indices_per_batch]\n",
    "        yield torch.tensor(X), torch.tensor(Y)\n",
    "\n",
    "def seq_data_iter_sequential(corpus, batch_size, num_steps):\n",
    "    \"\"\"使用顺序分区生成一个小批量子序列\"\"\"\n",
    "    # 随机偏移序列\n",
    "    corpus = corpus[random.randint(0, num_steps - 1):]\n",
    "    # 计算子序列数量\n",
    "    num_subseqs = (len(corpus) - 1) // num_steps\n",
    "    # 计算总令牌数\n",
    "    num_tokens = num_subseqs * num_steps\n",
    "    # 生成子序列起始索引\n",
    "    initial_indices = list(range(0, num_tokens, num_steps))\n",
    "    \n",
    "    def data(pos):\n",
    "        \"\"\"返回从pos开始的长度为num_steps的子序列\"\"\"\n",
    "        return corpus[pos: pos + num_steps]\n",
    "\n",
    "    # 计算每个分区的大小（每个分区包含batch_size个子序列）\n",
    "    num_tokens_per_partition = num_tokens // batch_size\n",
    "    for i in range(0, num_tokens, num_tokens_per_partition):\n",
    "        # 每个分区包含连续的batch_size个子序列\n",
    "        indices = []\n",
    "        for j in range(batch_size):\n",
    "            # 计算每个子序列的起始索引\n",
    "            index = i + j * num_tokens_per_partition\n",
    "            if index >= num_tokens:\n",
    "                break\n",
    "            indices.extend(initial_indices[index: index + num_steps])\n",
    "        # 生成输入X和标签Y\n",
    "        X = [data(j) for j in indices[:batch_size]]\n",
    "        Y = [data(j + 1) for j in indices[:batch_size]]\n",
    "        yield torch.tensor(X), torch.tensor(Y)\n",
    "\n",
    "# 测试代码\n",
    "corpus = list(range(35))  # 示例序列 [0, 1, ..., 34]\n",
    "batch_size, num_steps = 2, 5\n",
    "\n",
    "print(\"随机采样：\")\n",
    "for X, Y in seq_data_iter_random(corpus, batch_size, num_steps):\n",
    "    print(f\"X: {X}\\nY: {Y}\\n\")\n",
    "\n",
    "print(\"顺序分区：\")\n",
    "for X, Y in seq_data_iter_sequential(corpus, batch_size, num_steps):\n",
    "    print(f\"X: {X}\\nY: {Y}\\n\")"
   ]
  }
 ],
 "metadata": {
  "kernelspec": {
   "display_name": "s2l",
   "language": "python",
   "name": "python3"
  },
  "language_info": {
   "codemirror_mode": {
    "name": "ipython",
    "version": 3
   },
   "file_extension": ".py",
   "mimetype": "text/x-python",
   "name": "python",
   "nbconvert_exporter": "python",
   "pygments_lexer": "ipython3",
   "version": "3.9.20"
  }
 },
 "nbformat": 4,
 "nbformat_minor": 5
}
